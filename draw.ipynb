{
 "cells": [
  {
   "cell_type": "code",
   "execution_count": 1,
   "id": "5bbd355c",
   "metadata": {},
   "outputs": [
    {
     "ename": "AttributeError",
     "evalue": "'BSPlotterProjected' object has no attribute 'get_projected_plot'",
     "output_type": "error",
     "traceback": [
      "\u001b[0;31m---------------------------------------------------------------------------\u001b[0m",
      "\u001b[0;31mAttributeError\u001b[0m                            Traceback (most recent call last)",
      "Cell \u001b[0;32mIn[1], line 9\u001b[0m\n\u001b[1;32m      7\u001b[0m plotter \u001b[38;5;241m=\u001b[39m BSPlotterProjected(bs)\n\u001b[1;32m      8\u001b[0m \u001b[38;5;66;03m# Map each element to itself → element-projected fat bands\u001b[39;00m\n\u001b[0;32m----> 9\u001b[0m plot \u001b[38;5;241m=\u001b[39m \u001b[43mplotter\u001b[49m\u001b[38;5;241;43m.\u001b[39;49m\u001b[43mget_projected_plot\u001b[49m({\u001b[38;5;124m\"\u001b[39m\u001b[38;5;124mCu\u001b[39m\u001b[38;5;124m\"\u001b[39m:[\u001b[38;5;124m\"\u001b[39m\u001b[38;5;124mCu\u001b[39m\u001b[38;5;124m\"\u001b[39m], \u001b[38;5;124m\"\u001b[39m\u001b[38;5;124mAg\u001b[39m\u001b[38;5;124m\"\u001b[39m:[\u001b[38;5;124m\"\u001b[39m\u001b[38;5;124mAg\u001b[39m\u001b[38;5;124m\"\u001b[39m], \u001b[38;5;124m\"\u001b[39m\u001b[38;5;124mP\u001b[39m\u001b[38;5;124m\"\u001b[39m:[\u001b[38;5;124m\"\u001b[39m\u001b[38;5;124mP\u001b[39m\u001b[38;5;124m\"\u001b[39m], \u001b[38;5;124m\"\u001b[39m\u001b[38;5;124mS\u001b[39m\u001b[38;5;124m\"\u001b[39m:[\u001b[38;5;124m\"\u001b[39m\u001b[38;5;124mS\u001b[39m\u001b[38;5;124m\"\u001b[39m]})\n\u001b[1;32m     10\u001b[0m plot\u001b[38;5;241m.\u001b[39mshow()  \u001b[38;5;66;03m# or: plot.savefig(\"bands_elem_proj.png\", dpi=300, bbox_inches=\"tight\")\u001b[39;00m\n",
      "\u001b[0;31mAttributeError\u001b[0m: 'BSPlotterProjected' object has no attribute 'get_projected_plot'"
     ]
    }
   ],
   "source": [
    "from pymatgen.io.vasp import Vasprun\n",
    "from pymatgen.electronic_structure.plotter import BSPlotterProjected\n",
    "\n",
    "vr = Vasprun(\"vasprun.xml\", parse_projected_eigen=True)\n",
    "bs = vr.get_band_structure(kpoints_filename=\"KPOINTS\", line_mode=True, efermi=vr.efermi)\n",
    "\n",
    "plotter = BSPlotterProjected(bs)\n",
    "# Map each element to itself → element-projected fat bands\n",
    "plot = plotter.get_projected_plot({\"Cu\":[\"Cu\"], \"Ag\":[\"Ag\"], \"P\":[\"P\"], \"S\":[\"S\"]})\n",
    "plot.show()  # or: plot.savefig(\"bands_elem_proj.png\", dpi=300, bbox_inches=\"tight\")"
   ]
  },
  {
   "cell_type": "code",
   "execution_count": 14,
   "id": "bb9fb70f",
   "metadata": {},
   "outputs": [
    {
     "ename": "TypeError",
     "evalue": "proj_from_bs() missing 1 required positional argument: 'elements'",
     "output_type": "error",
     "traceback": [
      "\u001b[0;31m---------------------------------------------------------------------------\u001b[0m",
      "\u001b[0;31mTypeError\u001b[0m                                 Traceback (most recent call last)",
      "Cell \u001b[0;32mIn[14], line 84\u001b[0m\n\u001b[1;32m     81\u001b[0m procar_path  \u001b[38;5;241m=\u001b[39m \u001b[38;5;124m\"\u001b[39m\u001b[38;5;124mPROCAR\u001b[39m\u001b[38;5;124m\"\u001b[39m  \u001b[38;5;66;03m# used only if vasprun lacks projections\u001b[39;00m\n\u001b[1;32m     83\u001b[0m vr, bs \u001b[38;5;241m=\u001b[39m load_bs(vasprun_path, kpoints_path)\n\u001b[0;32m---> 84\u001b[0m elem_proj \u001b[38;5;241m=\u001b[39m \u001b[43mproj_from_bs\u001b[49m\u001b[43m(\u001b[49m\u001b[43mELEMENTS\u001b[49m\u001b[43m)\u001b[49m\n\u001b[1;32m     85\u001b[0m \u001b[38;5;28;01mif\u001b[39;00m elem_proj \u001b[38;5;129;01mis\u001b[39;00m \u001b[38;5;28;01mNone\u001b[39;00m:\n\u001b[1;32m     86\u001b[0m     \u001b[38;5;28mprint\u001b[39m(\u001b[38;5;124m\"\u001b[39m\u001b[38;5;124mNo projections in vasprun.xml → using PROCAR\u001b[39m\u001b[38;5;124m\"\u001b[39m)\n",
      "\u001b[0;31mTypeError\u001b[0m: proj_from_bs() missing 1 required positional argument: 'elements'"
     ]
    }
   ],
   "source": [
    "# --- Ag/S element-projected band structure (Jupyter version) ---\n",
    "import numpy as np\n",
    "import matplotlib.pyplot as plt\n",
    "from pymatgen.io.vasp import Poscar, Vasprun, Procar\n",
    "from pymatgen.electronic_structure.core import Spin\n",
    "from pymatgen.electronic_structure.bandstructure import BandStructureSymmLine\n",
    "\n",
    "ELEMENTS = [\"Ag\", \"S\"]\n",
    "\n",
    "def load_bs(vasprun_path, kpoints_path):\n",
    "    vr = Vasprun(vasprun_path, parse_projected_eigen=True, occu_tol=1e-8, parse_potcar_file=False)\n",
    "    bs = vr.get_band_structure(kpoints_filename=kpoints_path, line_mode=True, efermi=vr.efermi)\n",
    "    return vr, bs\n",
    "\n",
    "def kaxis_and_ticks(bs: BandStructureSymmLine):\n",
    "    kdist = np.array(bs.distance)\n",
    "    ticks = bs.get_ticks()\n",
    "    return np.array(kdist), ticks[\"distance\"], [lbl.replace(\"|\",\"│\") for lbl in ticks[\"label\"]]\n",
    "\n",
    "def proj_from_bs(bs, elements):\n",
    "    if not bs.projections:\n",
    "        return None\n",
    "    pd = bs.get_projection_on_elements(elements)\n",
    "    out = {el:{} for el in elements}\n",
    "    for el in elements:\n",
    "        for sp, arr in pd[el].items():\n",
    "            out[el][sp] = np.array(arr)\n",
    "    return out\n",
    "\n",
    "def proj_from_procar(procar_path, poscar_path, elements):\n",
    "    procar = Procar(procar_path)\n",
    "    species = [str(s.specie) for s in Poscar.from_file(poscar_path).structure]\n",
    "    elem_to_ions = {el:[i for i,sp in enumerate(species) if sp==el] for el in elements}\n",
    "    spins = [Spin.up] if not procar.is_spin else [Spin.up,Spin.down]\n",
    "    nk, nb = procar.nkpoints, procar.nbands\n",
    "    elem_proj = {el:{sp:np.zeros((nb,nk)) for sp in spins} for el in elements}\n",
    "    for si, sp in enumerate(spins):\n",
    "        for k in range(nk):\n",
    "            for b in range(nb):\n",
    "                for el in elements:\n",
    "                    val = sum(procar.data[si][k][b]['ion'][ion]['tot'] for ion in elem_to_ions[el])\n",
    "                    elem_proj[el][sp][b,k]=val\n",
    "    total=np.zeros((nb,nk))\n",
    "    for sp in spins: total+=sum(elem_proj[el][sp] for el in elements)\n",
    "    total[total==0]=1\n",
    "    for el in elements:\n",
    "        for sp in spins: elem_proj[el][sp]/=total\n",
    "    return elem_proj\n",
    "\n",
    "def plot_elem_projected(bs, elem_proj, elements, emin=-3, emax=3, size=40):\n",
    "    kdist, xticks, xlabels = kaxis_and_ticks(bs)\n",
    "    efermi = bs.efermi\n",
    "    spins = [Spin.up] if not bs.is_spin_polarized else [Spin.up, Spin.down]\n",
    "    colors = {\"Ag\":\"#1f77b4\", \"S\":\"#d62728\"}\n",
    "    fig, ax = plt.subplots(figsize=(7,5), dpi=150)\n",
    "    # gray reference bands\n",
    "    for sp in spins:\n",
    "        for band in bs.bands[sp]:\n",
    "            ax.plot(kdist, band-efermi, lw=0.7, color=\"#888888\", zorder=1)\n",
    "    # element weights\n",
    "    for el in elements:\n",
    "        for sp in spins:\n",
    "            bands=bs.bands[sp]; w=elem_proj[el][sp]\n",
    "            nb,nk=bands.shape\n",
    "            x=np.tile(kdist,nb); y=(bands-efermi).reshape(-1)\n",
    "            weight=w.reshape(-1)\n",
    "            s=size*(weight/weight.max() if weight.max()>0 else weight)\n",
    "            ax.scatter(x,y,s=s,c=colors[el],alpha=0.85,edgecolors='none',label=el if sp==spins[0] else None,zorder=3)\n",
    "    ax.set_xlim(kdist.min(),kdist.max()); ax.set_ylim(emin,emax)\n",
    "    ax.set_ylabel(\"Energy (eV) relative to $E_F$\")\n",
    "    ax.set_xticks(xticks); ax.set_xticklabels(xlabels)\n",
    "    for x in xticks: ax.axvline(x,color=\"k\",lw=0.5,alpha=0.3)\n",
    "    ax.axhline(0,color=\"k\",lw=0.8,ls=\"--\",alpha=0.6)\n",
    "    ax.legend(frameon=False)\n",
    "    plt.tight_layout(); plt.show()\n",
    "\n",
    "# --- Run it here ---\n",
    "vasprun_path = \"vasprun.xml\"\n",
    "kpoints_path = \"KPOINTS\"\n",
    "poscar_path  = \"POSCAR\"\n",
    "procar_path  = \"PROCAR\"  # used only if vasprun lacks projections\n",
    "\n",
    "vr, bs = load_bs(vasprun_path, kpoints_path)\n",
    "elem_proj = proj_from_bs(ELEMENTS)\n",
    "if elem_proj is None:\n",
    "    print(\"No projections in vasprun.xml → using PROCAR\")\n",
    "    elem_proj = proj_from_procar(procar_path, poscar_path, ELEMENTS)\n",
    "\n",
    "plot_elem_projected(bs, elem_proj, ELEMENTS, emin=-2.5, emax=2.5, size=40)\n"
   ]
  }
 ],
 "metadata": {
  "kernelspec": {
   "display_name": "chgnet",
   "language": "python",
   "name": "python3"
  },
  "language_info": {
   "codemirror_mode": {
    "name": "ipython",
    "version": 3
   },
   "file_extension": ".py",
   "mimetype": "text/x-python",
   "name": "python",
   "nbconvert_exporter": "python",
   "pygments_lexer": "ipython3",
   "version": "3.11.10"
  }
 },
 "nbformat": 4,
 "nbformat_minor": 5
}
